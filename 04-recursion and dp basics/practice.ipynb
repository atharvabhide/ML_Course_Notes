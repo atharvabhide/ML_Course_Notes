{
 "cells": [
  {
   "cell_type": "code",
   "execution_count": 5,
   "id": "478e3dd1-0f20-4625-8f1b-c7dbcb301852",
   "metadata": {},
   "outputs": [
    {
     "name": "stdout",
     "output_type": "stream",
     "text": [
      "120\n"
     ]
    }
   ],
   "source": [
    "# recursion\n",
    "def factorial(n):\n",
    "    if (n < 0):\n",
    "        return \"Error\"\n",
    "    if (n == 0 or n == 1): # base case\n",
    "        return 1\n",
    "    else:\n",
    "        return n * factorial(n-1) # recursive case\n",
    "\n",
    "print(factorial(5))"
   ]
  },
  {
   "cell_type": "code",
   "execution_count": 12,
   "id": "d71311b9-eb86-4411-9031-863e37a6b1a4",
   "metadata": {},
   "outputs": [
    {
     "name": "stdout",
     "output_type": "stream",
     "text": [
      "1000\n"
     ]
    }
   ],
   "source": [
    "# a raised to b\n",
    "def power_recursive(a, b):\n",
    "    if (b == 0):\n",
    "        return 1\n",
    "    else:\n",
    "        return a * power(a, b-1)\n",
    "\n",
    "print(power_recursive(10,3))"
   ]
  },
  {
   "cell_type": "code",
   "execution_count": 22,
   "id": "3c172a6f-3973-4274-b10d-9b54e19f2a1d",
   "metadata": {},
   "outputs": [
    {
     "name": "stdout",
     "output_type": "stream",
     "text": [
      "5\n"
     ]
    }
   ],
   "source": [
    "# fibonacci\n",
    "def fibonacci(n):\n",
    "    if (n == 0):\n",
    "        return 0\n",
    "    if (n == 1):\n",
    "        return 1\n",
    "    return fibonacci(n-1) + fibonacci(n-2)\n",
    "\n",
    "print(fibonacci(5))"
   ]
  },
  {
   "cell_type": "code",
   "execution_count": 24,
   "id": "6ad066aa-84d9-4ff5-a3e7-a4bc1342846f",
   "metadata": {},
   "outputs": [
    {
     "name": "stdout",
     "output_type": "stream",
     "text": [
      "5\n"
     ]
    }
   ],
   "source": [
    "# fibonacci using bottom up dp\n",
    "def dp_fibonacci(n):\n",
    "    f = [] # for memoization\n",
    "    f.append(0) # storing 0th fibonacci number\n",
    "    f.append(1) # storing 1st fibonacci number\n",
    "    \n",
    "    for i in range(2, n+1, 1): # bottom up dp\n",
    "        f.append(f[i-2] + f[i-1])\n",
    "    \n",
    "    return f[n]\n",
    "\n",
    "print(dp_fibonacci(5))"
   ]
  }
 ],
 "metadata": {
  "kernelspec": {
   "display_name": "Python 3 (ipykernel)",
   "language": "python",
   "name": "python3"
  },
  "language_info": {
   "codemirror_mode": {
    "name": "ipython",
    "version": 3
   },
   "file_extension": ".py",
   "mimetype": "text/x-python",
   "name": "python",
   "nbconvert_exporter": "python",
   "pygments_lexer": "ipython3",
   "version": "3.9.7"
  }
 },
 "nbformat": 4,
 "nbformat_minor": 5
}
