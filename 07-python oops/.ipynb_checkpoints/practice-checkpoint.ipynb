{
 "cells": [
  {
   "cell_type": "code",
   "execution_count": 9,
   "id": "031fce55-8f3b-44a0-a4b7-9e168f8150a2",
   "metadata": {},
   "outputs": [
    {
     "name": "stdout",
     "output_type": "stream",
     "text": [
      "Atharva\n",
      "19\n",
      "DSA\n",
      "Aakash\n",
      "20\n",
      "SE\n",
      "0\n"
     ]
    }
   ],
   "source": [
    "# basic oops\n",
    "class Person:\n",
    "    person_number = 0 # class variable\n",
    "    def __init__(this, name, age, fav_subject):\n",
    "        this.name = name\n",
    "        this.age = age\n",
    "        this.fav_subject = fav_subject\n",
    "    def get(this):\n",
    "        return [this.name, this.age, this.fav_subject]\n",
    "\n",
    "p1 = Person(\"Atharva\", 19, \"DSA\")\n",
    "p1_details = p1.get()\n",
    "for i in p1_details:\n",
    "    print(i)\n",
    "\n",
    "p2 = Person(\"Aakash\", 20, \"SE\")\n",
    "p2_details = p2.get()\n",
    "for i in p2_details:\n",
    "    print(i)\n",
    "    \n",
    "print(Person.person_number) # accessing class variable without object"
   ]
  },
  {
   "cell_type": "code",
   "execution_count": 26,
   "id": "e80623d8-31df-4c89-8270-b8d1147620db",
   "metadata": {},
   "outputs": [
    {
     "name": "stdout",
     "output_type": "stream",
     "text": [
      "This shape has 4 sides\n",
      "The square has side length of 4\n"
     ]
    }
   ],
   "source": [
    "# inheritance\n",
    "class Shape:\n",
    "    def __init__(this, sides):\n",
    "        this.sides = sides\n",
    "    def get(this):\n",
    "        print(f\"This shape has {this.sides} sides\")\n",
    "\n",
    "class Square(Shape):\n",
    "    def __init__(this, sides, length): # parent class constructor is called implicitly\n",
    "        this.sides = sides\n",
    "        this.length = length\n",
    "    def get(this):\n",
    "        super().get() # calling super class method\n",
    "        print(f\"The square has side length of {this.length}\")\n",
    "\n",
    "s1 = Square(4, 4)\n",
    "s1.get()"
   ]
  }
 ],
 "metadata": {
  "kernelspec": {
   "display_name": "Python 3 (ipykernel)",
   "language": "python",
   "name": "python3"
  },
  "language_info": {
   "codemirror_mode": {
    "name": "ipython",
    "version": 3
   },
   "file_extension": ".py",
   "mimetype": "text/x-python",
   "name": "python",
   "nbconvert_exporter": "python",
   "pygments_lexer": "ipython3",
   "version": "3.9.7"
  }
 },
 "nbformat": 4,
 "nbformat_minor": 5
}
