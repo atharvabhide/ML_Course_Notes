{
 "cells": [
  {
   "cell_type": "code",
   "execution_count": 1,
   "id": "64d75663-5e30-4256-8c5e-97b973d5d6cf",
   "metadata": {},
   "outputs": [
    {
     "name": "stdout",
     "output_type": "stream",
     "text": [
      "8\n"
     ]
    }
   ],
   "source": [
    "# modules\n",
    "import math\n",
    "\n",
    "print(int(math.pow(2,3)))"
   ]
  },
  {
   "cell_type": "code",
   "execution_count": 2,
   "id": "4df48733-33b1-4919-bbe8-375d28fada05",
   "metadata": {},
   "outputs": [
    {
     "data": {
      "text/plain": [
       "datetime.datetime(2022, 6, 16, 11, 2, 8, 479720)"
      ]
     },
     "execution_count": 2,
     "metadata": {},
     "output_type": "execute_result"
    }
   ],
   "source": [
    "from datetime import datetime\n",
    "\n",
    "datetime.now()"
   ]
  },
  {
   "cell_type": "code",
   "execution_count": 3,
   "id": "afd6ce6d-4f89-45b5-8170-c453571e1d84",
   "metadata": {},
   "outputs": [
    {
     "name": "stdout",
     "output_type": "stream",
     "text": [
      "['__doc__', '__loader__', '__name__', '__package__', '__spec__', 'acos', 'acosh', 'asin', 'asinh', 'atan', 'atan2', 'atanh', 'ceil', 'comb', 'copysign', 'cos', 'cosh', 'degrees', 'dist', 'e', 'erf', 'erfc', 'exp', 'expm1', 'fabs', 'factorial', 'floor', 'fmod', 'frexp', 'fsum', 'gamma', 'gcd', 'hypot', 'inf', 'isclose', 'isfinite', 'isinf', 'isnan', 'isqrt', 'lcm', 'ldexp', 'lgamma', 'log', 'log10', 'log1p', 'log2', 'modf', 'nan', 'nextafter', 'perm', 'pi', 'pow', 'prod', 'radians', 'remainder', 'sin', 'sinh', 'sqrt', 'tan', 'tanh', 'tau', 'trunc', 'ulp']\n"
     ]
    }
   ],
   "source": [
    "# to get all the functions available in the module\n",
    "print(dir(math))"
   ]
  },
  {
   "cell_type": "code",
   "execution_count": 4,
   "id": "b385ac79-4530-46a6-9164-eff75745dd7f",
   "metadata": {},
   "outputs": [
    {
     "data": {
      "text/plain": [
       "'This module provides access to the mathematical functions\\ndefined by the C standard.'"
      ]
     },
     "execution_count": 4,
     "metadata": {},
     "output_type": "execute_result"
    }
   ],
   "source": [
    "# to get the docstring of the module/function\n",
    "math.__doc__"
   ]
  },
  {
   "cell_type": "code",
   "execution_count": 5,
   "id": "aaab0274-20b7-412e-869b-a94d542b7cc6",
   "metadata": {},
   "outputs": [],
   "source": [
    "# packages contain subpackages, subpackagaes contain modules"
   ]
  },
  {
   "cell_type": "code",
   "execution_count": 6,
   "id": "a868c146-0988-4f9b-82e3-cef3046f4370",
   "metadata": {},
   "outputs": [],
   "source": [
    "import numpy as np"
   ]
  },
  {
   "cell_type": "code",
   "execution_count": 7,
   "id": "18050193-0f3a-4ce1-9e12-6e053e85a511",
   "metadata": {},
   "outputs": [
    {
     "name": "stdout",
     "output_type": "stream",
     "text": [
      "[1 2 3 4 5]\n",
      "[0 1 2 3 4 5 6 7 8 9]\n"
     ]
    }
   ],
   "source": [
    "# basic numpy arrays\n",
    "a = np.array([1,2,3,4,5])\n",
    "b = np.arange(0, 10, dtype=int)\n",
    "print(a)\n",
    "print(b)"
   ]
  },
  {
   "cell_type": "code",
   "execution_count": 8,
   "id": "1e51a869-97c8-4313-8e9f-900f5ae2b92a",
   "metadata": {},
   "outputs": [
    {
     "data": {
      "text/plain": [
       "1"
      ]
     },
     "execution_count": 8,
     "metadata": {},
     "output_type": "execute_result"
    }
   ],
   "source": [
    "# dimensions\n",
    "a.ndim"
   ]
  },
  {
   "cell_type": "code",
   "execution_count": 9,
   "id": "f892c019-4c0d-4150-a10a-0f7229f0a44b",
   "metadata": {},
   "outputs": [
    {
     "data": {
      "text/plain": [
       "(5,)"
      ]
     },
     "execution_count": 9,
     "metadata": {},
     "output_type": "execute_result"
    }
   ],
   "source": [
    "# shape of the array i.e rows, columns if rows are 1 then it is represented as (columns,) or columns are 1 then it is represented as (rows,)\n",
    "a.shape"
   ]
  },
  {
   "cell_type": "code",
   "execution_count": 10,
   "id": "c8395945-c471-4163-96bc-52150011f3c1",
   "metadata": {},
   "outputs": [
    {
     "data": {
      "text/plain": [
       "dtype('int32')"
      ]
     },
     "execution_count": 10,
     "metadata": {},
     "output_type": "execute_result"
    }
   ],
   "source": [
    "# gives datatype of array\n",
    "a.dtype"
   ]
  },
  {
   "cell_type": "code",
   "execution_count": 11,
   "id": "0cb77166-a4ec-4c69-ab1b-0634b316077c",
   "metadata": {},
   "outputs": [
    {
     "name": "stdout",
     "output_type": "stream",
     "text": [
      "[[1 2 3]\n",
      " [4 5 6]]\n",
      "2\n",
      "(2, 3)\n",
      "2\n"
     ]
    }
   ],
   "source": [
    "# 2D array\n",
    "a = np.array([[1,2,3], [4,5,6]])\n",
    "print(a)\n",
    "print(a.ndim)\n",
    "print(a.shape)\n",
    "print(len(a))"
   ]
  },
  {
   "cell_type": "code",
   "execution_count": 12,
   "id": "568cbde8-e793-4259-9996-353b7cf1fa3a",
   "metadata": {},
   "outputs": [],
   "source": [
    "# n dimensional array is called tensor."
   ]
  },
  {
   "cell_type": "code",
   "execution_count": 13,
   "id": "5c5c357a-dd17-423b-9e0f-70c652d26708",
   "metadata": {},
   "outputs": [
    {
     "data": {
      "text/plain": [
       "array([1, 3, 5, 7, 9])"
      ]
     },
     "execution_count": 13,
     "metadata": {},
     "output_type": "execute_result"
    }
   ],
   "source": [
    "# using arange (array range) (start, stop, stepsize)\n",
    "a = np.arange(1, 10, 2)\n",
    "a"
   ]
  },
  {
   "cell_type": "code",
   "execution_count": 14,
   "id": "43700343-273f-4870-b64e-46bb48a3e5e2",
   "metadata": {},
   "outputs": [
    {
     "data": {
      "text/plain": [
       "array([0. , 0.2, 0.4, 0.6, 0.8, 1. ])"
      ]
     },
     "execution_count": 14,
     "metadata": {},
     "output_type": "execute_result"
    }
   ],
   "source": [
    "# using linspace (linear space) (start, stop, number_of_points)\n",
    "a = np.linspace(0, 1, 6)\n",
    "a"
   ]
  },
  {
   "cell_type": "code",
   "execution_count": 15,
   "id": "16d0fe46-9944-44fd-94cc-d53b6821c3ad",
   "metadata": {},
   "outputs": [
    {
     "data": {
      "text/plain": [
       "array([[1, 1, 1],\n",
       "       [1, 1, 1]])"
      ]
     },
     "execution_count": 15,
     "metadata": {},
     "output_type": "execute_result"
    }
   ],
   "source": [
    "# using ones\n",
    "a = np.ones((2,3), dtype=int)\n",
    "a"
   ]
  },
  {
   "cell_type": "code",
   "execution_count": 16,
   "id": "a2e919e3-9226-4fb5-a1ae-603ab0c21c86",
   "metadata": {},
   "outputs": [
    {
     "data": {
      "text/plain": [
       "array([[0, 0, 0],\n",
       "       [0, 0, 0]])"
      ]
     },
     "execution_count": 16,
     "metadata": {},
     "output_type": "execute_result"
    }
   ],
   "source": [
    "# using zeros\n",
    "a = np.zeros((2,3), dtype=int)\n",
    "a"
   ]
  },
  {
   "cell_type": "code",
   "execution_count": 17,
   "id": "03923a39-a160-45e7-b401-dd52d02dc836",
   "metadata": {},
   "outputs": [
    {
     "data": {
      "text/plain": [
       "array([[1, 0, 0],\n",
       "       [0, 1, 0]])"
      ]
     },
     "execution_count": 17,
     "metadata": {},
     "output_type": "execute_result"
    }
   ],
   "source": [
    "# using eye (makes identity matrix)\n",
    "a = np.eye(2, 3, dtype=int)\n",
    "a"
   ]
  },
  {
   "cell_type": "code",
   "execution_count": 18,
   "id": "471643d0-4868-451c-89df-6309372ece35",
   "metadata": {},
   "outputs": [
    {
     "data": {
      "text/plain": [
       "array([[1, 0, 0, 0],\n",
       "       [0, 2, 0, 0],\n",
       "       [0, 0, 3, 0],\n",
       "       [0, 0, 0, 4]])"
      ]
     },
     "execution_count": 18,
     "metadata": {},
     "output_type": "execute_result"
    }
   ],
   "source": [
    "# using diag (makes diagonal matrix, takes in a diagonal)\n",
    "a = np.diag([1,2,3,4])\n",
    "a"
   ]
  },
  {
   "cell_type": "code",
   "execution_count": 19,
   "id": "789befff-3d37-4ef2-a834-b190ae7d7b7f",
   "metadata": {},
   "outputs": [
    {
     "data": {
      "text/plain": [
       "array([0.25458927, 0.43639734, 0.91922345, 0.03537202])"
      ]
     },
     "execution_count": 19,
     "metadata": {},
     "output_type": "execute_result"
    }
   ],
   "source": [
    "# random number arrays (uniform normal variables)\n",
    "a = np.random.rand(4)\n",
    "a"
   ]
  },
  {
   "cell_type": "code",
   "execution_count": 20,
   "id": "b6adc48b-837c-4dfb-83bf-7908dfa15e27",
   "metadata": {},
   "outputs": [
    {
     "data": {
      "text/plain": [
       "array([-0.40863905, -1.73706916, -1.52988121,  0.71437047])"
      ]
     },
     "execution_count": 20,
     "metadata": {},
     "output_type": "execute_result"
    }
   ],
   "source": [
    "# random number arrays (standard normal variables)\n",
    "a = np.random.randn(4)\n",
    "a"
   ]
  },
  {
   "cell_type": "code",
   "execution_count": 21,
   "id": "65d9ce5c-2ae2-4ed0-a81b-6ba27195f1cf",
   "metadata": {},
   "outputs": [
    {
     "name": "stdout",
     "output_type": "stream",
     "text": [
      "[1 2 3 4 5 6 7 8 9]\n",
      "6\n",
      "[[ 1  2  3  4]\n",
      " [ 5  6  7  8]\n",
      " [ 9 10 11 12]]\n",
      "10\n"
     ]
    }
   ],
   "source": [
    "# indexing\n",
    "a = np.arange(1, 10, 1, dtype=int)\n",
    "print(a)\n",
    "print(a[5])\n",
    "\n",
    "b = np.array([[1,2,3,4], [5,6,7,8], [9,10,11,12]])\n",
    "print(b)\n",
    "print(b[2, 1]) # 10 (indexing in multidimensional arrays is slightly different than normal lists)"
   ]
  },
  {
   "cell_type": "code",
   "execution_count": 22,
   "id": "3bdfcd97-5c21-4cac-b553-518d9f72a722",
   "metadata": {},
   "outputs": [
    {
     "name": "stdout",
     "output_type": "stream",
     "text": [
      "[1 2 3 4 5 6 7 8 9]\n",
      "[1 3 5]\n"
     ]
    }
   ],
   "source": [
    "# slicing (start : stop : stepsize)\n",
    "a = np.arange(1, 10, 1, dtype=int)\n",
    "print(a)\n",
    "print(a[0:5:2])"
   ]
  },
  {
   "cell_type": "code",
   "execution_count": 23,
   "id": "ff52d8f7-0b7f-435e-8c7e-f7e7a8a4a61f",
   "metadata": {},
   "outputs": [
    {
     "name": "stdout",
     "output_type": "stream",
     "text": [
      "[1 2 3 4 5 6 7 8 9]\n",
      "[11 12 13 14]\n",
      "[ 1  2  3  4  5 14 13 12 11]\n"
     ]
    }
   ],
   "source": [
    "# combining indexing and slicing\n",
    "a = np.arange(1, 10, 1)\n",
    "b = np.arange(11, 15, 1)\n",
    "print(a)\n",
    "print(b)\n",
    "a[5:] = b[::-1]\n",
    "print(a)"
   ]
  },
  {
   "cell_type": "code",
   "execution_count": 24,
   "id": "09b755fb-6627-4e0d-a8fe-8768482d5c8c",
   "metadata": {},
   "outputs": [
    {
     "name": "stdout",
     "output_type": "stream",
     "text": [
      "[8 2 8 7 8 5 2 1 9 8]\n",
      "[8 2 8 8 2 8]\n"
     ]
    }
   ],
   "source": [
    "# mask function\n",
    "a = np.random.randint(1, 10, 10)\n",
    "print(a)\n",
    "\n",
    "mask = (a % 2 == 0)\n",
    "\n",
    "new_a = a[mask]\n",
    "print(new_a)"
   ]
  },
  {
   "cell_type": "code",
   "execution_count": 25,
   "id": "fcfe09e4-a30b-49ca-8cfa-bade3b5a2270",
   "metadata": {},
   "outputs": [
    {
     "name": "stdout",
     "output_type": "stream",
     "text": [
      "[[ 1  0  0  0]\n",
      " [ 0  4  0  0]\n",
      " [ 0  0  9  0]\n",
      " [ 0  0  0 16]]\n",
      "\n",
      "[[ 1  0  0  0]\n",
      " [ 0  4  0  0]\n",
      " [ 0  0  9  0]\n",
      " [ 0  0  0 16]]\n"
     ]
    }
   ],
   "source": [
    "# matrix multiplication\n",
    "c = np.diag([1,2,3,4])\n",
    "print(c*c)\n",
    "print()\n",
    "print(c.dot(c))"
   ]
  },
  {
   "cell_type": "code",
   "execution_count": 26,
   "id": "6b16fe9d-c2a9-46b9-964c-183373867637",
   "metadata": {},
   "outputs": [
    {
     "name": "stdout",
     "output_type": "stream",
     "text": [
      "[ 0.84147098  0.90929743  0.14112001 -0.7568025  -0.95892427]\n",
      "[0.         0.69314718 1.09861229 1.38629436 1.60943791]\n",
      "[  2.71828183   7.3890561   20.08553692  54.59815003 148.4131591 ]\n"
     ]
    }
   ],
   "source": [
    "a = np.arange(1, 6, 1, dtype=int)\n",
    "print(np.sin(a))\n",
    "print(np.log(a))\n",
    "print(np.exp(a))"
   ]
  },
  {
   "cell_type": "code",
   "execution_count": 27,
   "id": "10304780-7d22-494f-9633-270457af6850",
   "metadata": {},
   "outputs": [
    {
     "name": "stdout",
     "output_type": "stream",
     "text": [
      "[[1 2 3 4]\n",
      " [5 6 7 8]]\n",
      "\n",
      "36\n",
      "[ 6  8 10 12]\n",
      "[10 26]\n"
     ]
    }
   ],
   "source": [
    "# basic reductions\n",
    "a = np.array([[1,2,3,4], [5,6,7,8]])\n",
    "print(a)\n",
    "print()\n",
    "print(np.sum(a))\n",
    "print(np.sum(a, axis=0)) # axis=0 implies sum along columns\n",
    "print(np.sum(a, axis=1)) # axis=1 implies sum along rows"
   ]
  },
  {
   "cell_type": "code",
   "execution_count": 28,
   "id": "0fea0851-97a8-46c7-952a-0eaf65ac670f",
   "metadata": {},
   "outputs": [
    {
     "name": "stdout",
     "output_type": "stream",
     "text": [
      "[3 1 6 4 6 5 4 7 1 9]\n",
      "9\n",
      "1\n",
      "9\n",
      "1\n"
     ]
    }
   ],
   "source": [
    "# max min\n",
    "a = np.random.randint(1, 10, 10)\n",
    "print(a)\n",
    "print(a.max())\n",
    "print(a.min())\n",
    "print(a.argmax()) # index of maximum element\n",
    "print(a.argmin()) # index of minimum element"
   ]
  },
  {
   "cell_type": "code",
   "execution_count": 29,
   "id": "7d12e126-0482-41be-8818-98d4807b0dd8",
   "metadata": {},
   "outputs": [
    {
     "name": "stdout",
     "output_type": "stream",
     "text": [
      "5.0\n",
      "2.581988897471611\n",
      "5.0\n"
     ]
    }
   ],
   "source": [
    "# stats\n",
    "a = np.arange(1, 10, dtype=int)\n",
    "print(a.mean())\n",
    "print(a.std())\n",
    "print(np.median(a))"
   ]
  },
  {
   "cell_type": "code",
   "execution_count": 30,
   "id": "3679feb7-fbdb-49e6-91df-88033f140a0e",
   "metadata": {},
   "outputs": [
    {
     "data": {
      "text/plain": [
       "array([[ 1900., 30000.,  4000., 48300.],\n",
       "       [ 1901., 47200.,  6100., 48200.],\n",
       "       [ 1902., 70200.,  9800., 41500.],\n",
       "       [ 1903., 77400., 35200., 38200.],\n",
       "       [ 1904., 36300., 59400., 40600.],\n",
       "       [ 1905., 20600., 41700., 39800.],\n",
       "       [ 1906., 18100., 19000., 38600.],\n",
       "       [ 1907., 21400., 13000., 42300.],\n",
       "       [ 1908., 22000.,  8300., 44500.],\n",
       "       [ 1909., 25400.,  9100., 42100.],\n",
       "       [ 1910., 27100.,  7400., 46000.],\n",
       "       [ 1911., 40300.,  8000., 46800.],\n",
       "       [ 1912., 57000., 12300., 43800.],\n",
       "       [ 1913., 76600., 19500., 40900.],\n",
       "       [ 1914., 52300., 45700., 39400.],\n",
       "       [ 1915., 19500., 51100., 39000.],\n",
       "       [ 1916., 11200., 29700., 36700.],\n",
       "       [ 1917.,  7600., 15800., 41800.],\n",
       "       [ 1918., 14600.,  9700., 43300.],\n",
       "       [ 1919., 16200., 10100., 41300.],\n",
       "       [ 1920., 24700.,  8600., 47300.]])"
      ]
     },
     "execution_count": 30,
     "metadata": {},
     "output_type": "execute_result"
    }
   ],
   "source": [
    "# data handling\n",
    "data = np.loadtxt(\"4 numpy/populations.txt\")\n",
    "data"
   ]
  },
  {
   "cell_type": "code",
   "execution_count": 31,
   "id": "5065d62a-26c0-465f-9834-c7bb596f5ed2",
   "metadata": {},
   "outputs": [],
   "source": [
    "# get data of every column\n",
    "year, hares, lynxes, carrots = data.T"
   ]
  },
  {
   "cell_type": "code",
   "execution_count": 32,
   "id": "a9622fd1-a99c-459e-8605-fe3e8de2f43d",
   "metadata": {},
   "outputs": [
    {
     "name": "stdout",
     "output_type": "stream",
     "text": [
      "[1900. 1901. 1902. 1903. 1904. 1905. 1906. 1907. 1908. 1909. 1910. 1911.\n",
      " 1912. 1913. 1914. 1915. 1916. 1917. 1918. 1919. 1920.]\n"
     ]
    }
   ],
   "source": [
    "print(year)"
   ]
  },
  {
   "cell_type": "code",
   "execution_count": 33,
   "id": "6e541bf4-1bb8-4d20-9d3f-2974070e4bcf",
   "metadata": {},
   "outputs": [
    {
     "data": {
      "text/plain": [
       "array([[30000.,  4000., 48300.],\n",
       "       [47200.,  6100., 48200.],\n",
       "       [70200.,  9800., 41500.],\n",
       "       [77400., 35200., 38200.],\n",
       "       [36300., 59400., 40600.],\n",
       "       [20600., 41700., 39800.],\n",
       "       [18100., 19000., 38600.],\n",
       "       [21400., 13000., 42300.],\n",
       "       [22000.,  8300., 44500.],\n",
       "       [25400.,  9100., 42100.],\n",
       "       [27100.,  7400., 46000.],\n",
       "       [40300.,  8000., 46800.],\n",
       "       [57000., 12300., 43800.],\n",
       "       [76600., 19500., 40900.],\n",
       "       [52300., 45700., 39400.],\n",
       "       [19500., 51100., 39000.],\n",
       "       [11200., 29700., 36700.],\n",
       "       [ 7600., 15800., 41800.],\n",
       "       [14600.,  9700., 43300.],\n",
       "       [16200., 10100., 41300.],\n",
       "       [24700.,  8600., 47300.]])"
      ]
     },
     "execution_count": 33,
     "metadata": {},
     "output_type": "execute_result"
    }
   ],
   "source": [
    "# getting populations so removing year column\n",
    "populations = data[:, 1:]\n",
    "populations"
   ]
  },
  {
   "cell_type": "code",
   "execution_count": 34,
   "id": "7f81609d-9530-480a-afba-ab273add1607",
   "metadata": {},
   "outputs": [
    {
     "data": {
      "text/plain": [
       "array([20897.90645809, 16254.59153691,  3322.50622558])"
      ]
     },
     "execution_count": 34,
     "metadata": {},
     "output_type": "execute_result"
    }
   ],
   "source": [
    "# standard deviation of every column\n",
    "populations.std(axis=0)"
   ]
  },
  {
   "cell_type": "code",
   "execution_count": 35,
   "id": "606df973-5b82-45f2-97a8-8939e93e25c5",
   "metadata": {},
   "outputs": [
    {
     "name": "stdout",
     "output_type": "stream",
     "text": [
      "[2 2 0 0 1 1 2 2 2 2 2 2 0 0 0 1 2 2 2 2 2]\n"
     ]
    }
   ],
   "source": [
    "# which species has highest population each year, so we have to go row wise\n",
    "print(np.argmax(populations, axis=1))"
   ]
  },
  {
   "cell_type": "code",
   "execution_count": 37,
   "id": "72348f8f-fcc1-40ef-ab68-ea59e456d1cb",
   "metadata": {},
   "outputs": [
    {
     "name": "stdout",
     "output_type": "stream",
     "text": [
      "[1 2 3 4 5 6]\n"
     ]
    }
   ],
   "source": [
    "# flattening\n",
    "a = np.array([[1,2,3], [4,5,6]])\n",
    "print(np.ravel(a)) # converts 2d array to 1d array"
   ]
  },
  {
   "cell_type": "code",
   "execution_count": 39,
   "id": "0b9c848b-6557-46f5-97f5-acfc734b15ef",
   "metadata": {},
   "outputs": [
    {
     "name": "stdout",
     "output_type": "stream",
     "text": [
      "[[1 2 3]\n",
      " [4 5 6]]\n"
     ]
    }
   ],
   "source": [
    "# reshape\n",
    "a = np.array([1,2,3,4,5,6])\n",
    "print(np.reshape(a, (2,3))) # make 1d array into 2x3 2d array"
   ]
  },
  {
   "cell_type": "code",
   "execution_count": 44,
   "id": "35f68f46-5225-47a3-b0db-8a0e42fb2a1a",
   "metadata": {},
   "outputs": [
    {
     "name": "stdout",
     "output_type": "stream",
     "text": [
      "[[1 2 3 4]\n",
      " [5 6 7 8]]\n",
      "\n",
      "[[4 3 2 1]\n",
      " [8 7 6 5]]\n"
     ]
    }
   ],
   "source": [
    "# sorting\n",
    "a = np.array([[4,3,2,1], [8,7,6,5]])\n",
    "print(np.sort(a))\n",
    "print()\n",
    "print(np.sort(a, axis=0)) # sorting column-wise"
   ]
  },
  {
   "cell_type": "code",
   "execution_count": 51,
   "id": "fdb1feb8-14c6-4bbe-a73c-b90ce3ee49d1",
   "metadata": {},
   "outputs": [
    {
     "name": "stdout",
     "output_type": "stream",
     "text": [
      "[[3 2 1 0]\n",
      " [3 2 1 0]]\n"
     ]
    }
   ],
   "source": [
    "# argsort\n",
    "j = np.argsort(a) # sorts the array and returns an array of original indices\n",
    "print(j) "
   ]
  }
 ],
 "metadata": {
  "kernelspec": {
   "display_name": "Python 3 (ipykernel)",
   "language": "python",
   "name": "python3"
  },
  "language_info": {
   "codemirror_mode": {
    "name": "ipython",
    "version": 3
   },
   "file_extension": ".py",
   "mimetype": "text/x-python",
   "name": "python",
   "nbconvert_exporter": "python",
   "pygments_lexer": "ipython3",
   "version": "3.9.7"
  }
 },
 "nbformat": 4,
 "nbformat_minor": 5
}
