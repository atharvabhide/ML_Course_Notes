{
 "cells": [
  {
   "cell_type": "code",
   "execution_count": 1,
   "id": "39580881-9ebf-495f-843f-c0067ebd3da1",
   "metadata": {},
   "outputs": [
    {
     "name": "stdout",
     "output_type": "stream",
     "text": [
      "25\n"
     ]
    }
   ],
   "source": [
    "# lambda functions\n",
    "square = lambda x : x**2\n",
    "print(square(5))"
   ]
  },
  {
   "cell_type": "code",
   "execution_count": 2,
   "id": "5a6d2009-33bf-4c04-bebc-d1d2cdb5eafd",
   "metadata": {},
   "outputs": [
    {
     "name": "stdout",
     "output_type": "stream",
     "text": [
      "[0, 1, 2, 3, 4, 5, 6, 7, 8, 9, 10, 11, 12, 13, 14, 15, 16, 17, 18, 19, 20, 21, 22, 23, 24, 25, 26, 27, 28, 29, 30, 31, 32, 33, 34, 35, 36, 37, 38, 39, 40, 41, 42, 43, 44, 45, 46, 47, 48, 49, 50, 51, 52, 53, 54, 55, 56, 57, 58, 59, 60, 61, 62, 63, 64, 65, 66, 67, 68, 69, 70, 71, 72, 73, 74, 75, 76, 77, 78, 79, 80, 81, 82, 83, 84, 85, 86, 87, 88, 89, 90, 91, 92, 93, 94, 95, 96, 97, 98, 99]\n",
      "[0, 2, 4, 6, 8, 10, 12, 14, 16, 18, 20, 22, 24, 26, 28, 30, 32, 34, 36, 38, 40, 42, 44, 46, 48, 50, 52, 54, 56, 58, 60, 62, 64, 66, 68, 70, 72, 74, 76, 78, 80, 82, 84, 86, 88, 90, 92, 94, 96, 98]\n"
     ]
    }
   ],
   "source": [
    "# lambda functions with filter\n",
    "a = [i for i in range(100)]\n",
    "print(a)\n",
    "a = list(filter(lambda x : x % 2 == 0, a))\n",
    "print(a)"
   ]
  },
  {
   "cell_type": "code",
   "execution_count": 3,
   "id": "71276d1e-6edd-4d38-a8c2-e624e82b5e9d",
   "metadata": {},
   "outputs": [
    {
     "name": "stdout",
     "output_type": "stream",
     "text": [
      "[1, 4, 9, 16, 25]\n"
     ]
    }
   ],
   "source": [
    "# lambda functions with map\n",
    "lst = [1,2,3,4,5]\n",
    "new_lst = list(map(lambda x : x **2, lst))\n",
    "print(new_lst)"
   ]
  },
  {
   "cell_type": "code",
   "execution_count": 4,
   "id": "77a3d5c4-b798-4ea6-bb97-e08b8c40c9e7",
   "metadata": {},
   "outputs": [
    {
     "name": "stdout",
     "output_type": "stream",
     "text": [
      "120\n"
     ]
    }
   ],
   "source": [
    "# lambda functions with reduce\n",
    "from functools import reduce\n",
    "lst = [1,2,3,4,5]\n",
    "new_lst = reduce(lambda x,y: x*y, lst)\n",
    "print(new_lst)"
   ]
  },
  {
   "cell_type": "code",
   "execution_count": 5,
   "id": "51d39826-0a1a-4e56-88e4-8a65e618aa64",
   "metadata": {},
   "outputs": [
    {
     "name": "stdin",
     "output_type": "stream",
     "text": [
      " 1 2 3 4 5 6 7 8 9 10\n"
     ]
    },
    {
     "name": "stdout",
     "output_type": "stream",
     "text": [
      "[1, 2, 3, 4, 5, 6, 7, 8, 9, 10]\n"
     ]
    }
   ],
   "source": [
    "# space separated input\n",
    "num_string = input()\n",
    "input_list = num_string.split()\n",
    "input_list = [int(i) for i in input_list]\n",
    "print(input_list)"
   ]
  },
  {
   "cell_type": "code",
   "execution_count": 6,
   "id": "4ba24dc2-1af7-4484-b73d-a44562a4d743",
   "metadata": {},
   "outputs": [
    {
     "name": "stdout",
     "output_type": "stream",
     "text": [
      "This is the first line\n",
      "\n",
      "This is the second line\n",
      "\n",
      "This is the third line\n",
      "\n",
      "['This is the first line\\n', 'This is the second line\\n', 'This is the third line\\n']\n"
     ]
    }
   ],
   "source": [
    "# basic file handling\n",
    "try:\n",
    "    file = open(\"example.txt\", \"w+\")\n",
    "    file.write(\"This is the first line\\n\")\n",
    "    file.write(\"This is the second line\\n\")\n",
    "    file.write(\"This is the third line\\n\")\n",
    "    file.seek(0)\n",
    "    for line in file:\n",
    "        print(line, end=\"\\n\")\n",
    "    file.seek(0) # used to change the file pointer position\n",
    "    print(file.readlines()) # gives an array of remaining lines\n",
    "finally:\n",
    "    file.close()"
   ]
  },
  {
   "cell_type": "code",
   "execution_count": 7,
   "id": "575711d2-51b2-4bcd-abed-39a668056ef0",
   "metadata": {},
   "outputs": [],
   "source": [
    "# os module\n",
    "import os\n",
    "os.rename(\"example.txt\", \"sample.txt\")"
   ]
  },
  {
   "cell_type": "code",
   "execution_count": 8,
   "id": "3c73297c-790d-4a9e-b07c-56c85ac05a0b",
   "metadata": {},
   "outputs": [],
   "source": [
    "os.remove(\"sample.txt\")"
   ]
  },
  {
   "cell_type": "code",
   "execution_count": 9,
   "id": "a70225d4-db0e-4411-9a15-9fc0089421ba",
   "metadata": {},
   "outputs": [
    {
     "data": {
      "text/plain": [
       "'C:\\\\Users\\\\athar\\\\Desktop\\\\applied roots diploma\\\\06-misc topics python'"
      ]
     },
     "execution_count": 9,
     "metadata": {},
     "output_type": "execute_result"
    }
   ],
   "source": [
    "os.getcwd()"
   ]
  }
 ],
 "metadata": {
  "kernelspec": {
   "display_name": "Python 3 (ipykernel)",
   "language": "python",
   "name": "python3"
  },
  "language_info": {
   "codemirror_mode": {
    "name": "ipython",
    "version": 3
   },
   "file_extension": ".py",
   "mimetype": "text/x-python",
   "name": "python",
   "nbconvert_exporter": "python",
   "pygments_lexer": "ipython3",
   "version": "3.9.7"
  }
 },
 "nbformat": 4,
 "nbformat_minor": 5
}
