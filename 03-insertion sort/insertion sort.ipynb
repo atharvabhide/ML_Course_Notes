{
 "cells": [
  {
   "cell_type": "code",
   "execution_count": 46,
   "id": "1cd142bc-6792-4a20-861c-9c794a536c62",
   "metadata": {},
   "outputs": [
    {
     "name": "stdout",
     "output_type": "stream",
     "text": [
      "[1, 2, 3, 4, 5, 6, 7, 8]\n"
     ]
    }
   ],
   "source": [
    "def insertion_sort(array):\n",
    "    for i in range(1, len(array), 1):\n",
    "        k = array[i]\n",
    "        j = i-1\n",
    "        while (j >= 0 and array[j] > k):\n",
    "            array[j+1] = array[j]\n",
    "            j -= 1\n",
    "        array[j+1] = k\n",
    "        \n",
    "array = [6,5,3,1,8,7,2,4]\n",
    "insertion_sort(array)\n",
    "print(array)"
   ]
  },
  {
   "cell_type": "code",
   "execution_count": 51,
   "id": "3049a4a1-31bd-4b58-952a-47654141eb11",
   "metadata": {},
   "outputs": [
    {
     "name": "stdin",
     "output_type": "stream",
     "text": [
      "Do you want to add an element enter 0 if no enter 1 if yes-\n",
      " 1\n",
      "Enter the element to be inserted in the array-\n",
      " 10\n",
      "Do you want to add an element enter 0 if no enter 1 if yes-\n",
      " 1\n",
      "Enter the element to be inserted in the array-\n",
      " 9\n",
      "Do you want to add an element enter 0 if no enter 1 if yes-\n",
      " 1\n",
      "Enter the element to be inserted in the array-\n",
      " 8\n",
      "Do you want to add an element enter 0 if no enter 1 if yes-\n",
      " 1\n",
      "Enter the element to be inserted in the array-\n",
      " 7\n",
      "Do you want to add an element enter 0 if no enter 1 if yes-\n",
      " 1\n",
      "Enter the element to be inserted in the array-\n",
      " 6\n",
      "Do you want to add an element enter 0 if no enter 1 if yes-\n",
      " 1\n",
      "Enter the element to be inserted in the array-\n",
      " 5\n",
      "Do you want to add an element enter 0 if no enter 1 if yes-\n",
      " 1\n",
      "Enter the element to be inserted in the array-\n",
      " 4\n",
      "Do you want to add an element enter 0 if no enter 1 if yes-\n",
      " 1\n",
      "Enter the element to be inserted in the array-\n",
      " 3\n",
      "Do you want to add an element enter 0 if no enter 1 if yes-\n",
      " 1\n",
      "Enter the element to be inserted in the array-\n",
      " 2\n",
      "Do you want to add an element enter 0 if no enter 1 if yes-\n",
      " 1\n",
      "Enter the element to be inserted in the array-\n",
      " 1\n",
      "Do you want to add an element enter 0 if no enter 1 if yes-\n",
      " 0\n"
     ]
    },
    {
     "name": "stdout",
     "output_type": "stream",
     "text": [
      "[1, 2, 3, 4, 5, 6, 7, 8, 9, 10]\n"
     ]
    }
   ],
   "source": [
    "# online sorting\n",
    "def insertion_sort(array):\n",
    "    if (len(array) == 1):\n",
    "        return\n",
    "    for i in range(1, len(array), 1):\n",
    "        key = array[i]\n",
    "        j = i-1\n",
    "        while (j >= 0 and array[j] > key):\n",
    "            array[j+1] = array[j]\n",
    "            j -= 1\n",
    "        array[j+1] = key\n",
    "        \n",
    "array = []\n",
    "while True:\n",
    "    choice = int(input(\"Do you want to add an element enter 0 if no enter 1 if yes-\\n\"))\n",
    "    if (choice == 0):\n",
    "        break\n",
    "    else:\n",
    "        element = int(input(\"Enter the element to be inserted in the array-\\n\"))\n",
    "        array.append(element)\n",
    "        insertion_sort(array)\n",
    "\n",
    "print(array)"
   ]
  }
 ],
 "metadata": {
  "kernelspec": {
   "display_name": "Python 3 (ipykernel)",
   "language": "python",
   "name": "python3"
  },
  "language_info": {
   "codemirror_mode": {
    "name": "ipython",
    "version": 3
   },
   "file_extension": ".py",
   "mimetype": "text/x-python",
   "name": "python",
   "nbconvert_exporter": "python",
   "pygments_lexer": "ipython3",
   "version": "3.9.7"
  }
 },
 "nbformat": 4,
 "nbformat_minor": 5
}
