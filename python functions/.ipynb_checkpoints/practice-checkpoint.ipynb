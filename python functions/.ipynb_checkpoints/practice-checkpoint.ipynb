{
 "cells": [
  {
   "cell_type": "code",
   "execution_count": 2,
   "id": "641ac341-1933-4316-aa70-974cebfc4720",
   "metadata": {},
   "outputs": [
    {
     "name": "stdout",
     "output_type": "stream",
     "text": [
      "['__add__', '__class__', '__class_getitem__', '__contains__', '__delattr__', '__delitem__', '__dir__', '__doc__', '__eq__', '__format__', '__ge__', '__getattribute__', '__getitem__', '__gt__', '__hash__', '__iadd__', '__imul__', '__init__', '__init_subclass__', '__iter__', '__le__', '__len__', '__lt__', '__mul__', '__ne__', '__new__', '__reduce__', '__reduce_ex__', '__repr__', '__reversed__', '__rmul__', '__setattr__', '__setitem__', '__sizeof__', '__str__', '__subclasshook__', 'append', 'clear', 'copy', 'count', 'extend', 'index', 'insert', 'pop', 'remove', 'reverse', 'sort']\n"
     ]
    }
   ],
   "source": [
    "# dir function\n",
    "# gives all attributes and functions of the object\n",
    "a = [1,2,3,4]\n",
    "print(dir(a))"
   ]
  },
  {
   "cell_type": "code",
   "execution_count": 3,
   "id": "ff06c20a-9e52-4e24-a618-cc83e882d534",
   "metadata": {},
   "outputs": [
    {
     "name": "stdout",
     "output_type": "stream",
     "text": [
      "True\n"
     ]
    }
   ],
   "source": [
    "# all returns true if all items in an iterable are true\n",
    "a = [1,3,4,5]\n",
    "print(all(a))"
   ]
  },
  {
   "cell_type": "code",
   "execution_count": 4,
   "id": "32d4dc83-94b1-4f71-823b-b3f175103758",
   "metadata": {},
   "outputs": [
    {
     "name": "stdout",
     "output_type": "stream",
     "text": [
      "(2, 0)\n"
     ]
    }
   ],
   "source": [
    "# divmod gives quotient and remainder pair\n",
    "print(divmod(4,2))"
   ]
  },
  {
   "cell_type": "code",
   "execution_count": 5,
   "id": "5cc561b9-0601-48d3-b5bc-32d6e8815788",
   "metadata": {},
   "outputs": [
    {
     "name": "stdout",
     "output_type": "stream",
     "text": [
      "index is 0 and value is 1\n",
      "index is 1 and value is 2\n",
      "index is 2 and value is 3\n",
      "index is 3 and value is 4\n"
     ]
    }
   ],
   "source": [
    "# enumerate\n",
    "for index,value in enumerate([1,2,3,4]):\n",
    "    print(f\"index is {index} and value is {value}\")"
   ]
  },
  {
   "cell_type": "code",
   "execution_count": 11,
   "id": "d1a320d6-3919-4d30-9f15-fc5748246950",
   "metadata": {},
   "outputs": [
    {
     "name": "stdout",
     "output_type": "stream",
     "text": [
      "[2, 4, 6, 8, 10, 12, 14, 16, 18, 20, 22, 24, 26, 28, 30, 32, 34, 36, 38, 40, 42, 44, 46, 48, 50, 52, 54, 56, 58, 60, 62, 64, 66, 68, 70, 72, 74, 76, 78, 80, 82, 84, 86, 88, 90, 92, 94, 96, 98, 100]\n"
     ]
    }
   ],
   "source": [
    "# filter\n",
    "def even(num):\n",
    "    return num%2==0\n",
    "\n",
    "a = [i for i in range(1,101,1)]\n",
    "\n",
    "b = list(filter(even, a))\n",
    "\n",
    "print(b)"
   ]
  },
  {
   "cell_type": "code",
   "execution_count": 15,
   "id": "17ac7720-c5b9-4df8-aa3a-999e97e12ffa",
   "metadata": {},
   "outputs": [
    {
     "name": "stdout",
     "output_type": "stream",
     "text": [
      "[1, 4, 9, 16, 25, 36, 49, 64, 81, 100, 121, 144, 169, 196, 225, 256, 289, 324, 361, 400, 441, 484, 529, 576, 625, 676, 729, 784, 841, 900, 961, 1024, 1089, 1156, 1225, 1296, 1369, 1444, 1521, 1600, 1681, 1764, 1849, 1936, 2025, 2116, 2209, 2304, 2401, 2500, 2601, 2704, 2809, 2916, 3025, 3136, 3249, 3364, 3481, 3600, 3721, 3844, 3969, 4096, 4225, 4356, 4489, 4624, 4761, 4900, 5041, 5184, 5329, 5476, 5625, 5776, 5929, 6084, 6241, 6400, 6561, 6724, 6889, 7056, 7225, 7396, 7569, 7744, 7921, 8100, 8281, 8464, 8649, 8836, 9025, 9216, 9409, 9604, 9801, 10000]\n"
     ]
    }
   ],
   "source": [
    "# map\n",
    "def square(num):\n",
    "    return num**2\n",
    "\n",
    "a = [i for i in range(1,101,1)]\n",
    "\n",
    "b = list(map(square, a))\n",
    "\n",
    "print(b)"
   ]
  },
  {
   "cell_type": "code",
   "execution_count": 17,
   "id": "8f4889e6-f4c5-47bc-bd0a-930316c1acb0",
   "metadata": {},
   "outputs": [
    {
     "name": "stdout",
     "output_type": "stream",
     "text": [
      "3628800\n"
     ]
    }
   ],
   "source": [
    "# reduce\n",
    "# performs rolling computation\n",
    "from functools import reduce\n",
    "\n",
    "def multiply(x, y):\n",
    "    return x*y\n",
    "\n",
    "product = 1\n",
    "\n",
    "a = [i for i in range(1,11,1)]\n",
    "\n",
    "product = reduce(multiply, a)\n",
    "\n",
    "print(product)"
   ]
  },
  {
   "cell_type": "code",
   "execution_count": 14,
   "id": "692fc817-5d4c-4537-ba05-b2201f472794",
   "metadata": {},
   "outputs": [
    {
     "data": {
      "text/plain": [
       "True"
      ]
     },
     "execution_count": 14,
     "metadata": {},
     "output_type": "execute_result"
    }
   ],
   "source": [
    "# check if an object is of a particular class/type\n",
    "isinstance([1,2,3,4], list)"
   ]
  },
  {
   "cell_type": "code",
   "execution_count": 21,
   "id": "f9a83783-800d-40b9-9e2e-0503610c81ad",
   "metadata": {},
   "outputs": [
    {
     "name": "stdout",
     "output_type": "stream",
     "text": [
      "argument 1 is Atharva and argument 2 is Bhide\n"
     ]
    }
   ],
   "source": [
    "# keyword arguments\n",
    "def sample(**kwargs):\n",
    "    print(f\"argument 1 is {kwargs['first_name']} and argument 2 is {kwargs['last_name']}\")\n",
    "    \n",
    "sample(first_name=\"Atharva\", last_name=\"Bhide\")"
   ]
  },
  {
   "cell_type": "code",
   "execution_count": 24,
   "id": "7bc234d8-b647-4939-9711-e0cde7b9d711",
   "metadata": {},
   "outputs": [
    {
     "name": "stdout",
     "output_type": "stream",
     "text": [
      "Hello, Atharva\n",
      "Hello, Chaitanya\n",
      "Hello, Varun\n",
      "Hello, Aakash\n"
     ]
    }
   ],
   "source": [
    "# arbitrary arguments\n",
    "def greet(*names):\n",
    "    for i in names:\n",
    "        print(f\"Hello, {i}\")\n",
    "\n",
    "greet(\"Atharva\", \"Chaitanya\", \"Varun\", \"Aakash\")"
   ]
  }
 ],
 "metadata": {
  "kernelspec": {
   "display_name": "Python 3 (ipykernel)",
   "language": "python",
   "name": "python3"
  },
  "language_info": {
   "codemirror_mode": {
    "name": "ipython",
    "version": 3
   },
   "file_extension": ".py",
   "mimetype": "text/x-python",
   "name": "python",
   "nbconvert_exporter": "python",
   "pygments_lexer": "ipython3",
   "version": "3.9.7"
  }
 },
 "nbformat": 4,
 "nbformat_minor": 5
}
